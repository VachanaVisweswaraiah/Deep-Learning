{
  "cells": [
    {
      "cell_type": "markdown",
      "metadata": {
        "id": "5f9CCOlWuxwV"
      },
      "source": [
        "Imports"
      ]
    },
    {
      "cell_type": "code",
      "execution_count": 28,
      "metadata": {
        "id": "kB4QElrzjK5F"
      },
      "outputs": [],
      "source": [
        "import os\n",
        "import torch\n",
        "import random\n",
        "import numpy as np\n",
        "from torch.utils.data import Dataset, DataLoader\n",
        "from sklearn.model_selection import train_test_split\n",
        "from collections import Counter\n",
        "from torch.nn.utils.rnn import pad_sequence"
      ]
    },
    {
      "cell_type": "markdown",
      "metadata": {
        "id": "-Wcv-oAFopQG"
      },
      "source": [
        "Mounting Goggle drive to collab\n"
      ]
    },
    {
      "cell_type": "code",
      "execution_count": 29,
      "metadata": {
        "colab": {
          "base_uri": "https://localhost:8080/"
        },
        "id": "yY1HnClNFBCz",
        "outputId": "8a9b49de-ec57-4c15-facf-507810a97f36"
      },
      "outputs": [
        {
          "name": "stdout",
          "output_type": "stream",
          "text": [
            "Drive already mounted at /content/drive; to attempt to forcibly remount, call drive.mount(\"/content/drive\", force_remount=True).\n",
            "IMDB dataset already extracted.\n"
          ]
        }
      ],
      "source": [
        "import os\n",
        "import tarfile\n",
        "from google.colab import drive\n",
        "\n",
        "# Mount Google Drive\n",
        "drive.mount('/content/drive')\n",
        "\n",
        "# Paths\n",
        "tar_path = '/content/drive/MyDrive/Colab Notebooks/Data/aclImdb_v1.tar.gz'\n",
        "extract_to = '/content/drive/MyDrive/Colab Notebooks/rnn'\n",
        "\n",
        "# Extract if not already extracted\n",
        "if not os.path.exists(os.path.join(extract_to, 'aclImdb')):\n",
        "    print(\"Extracting IMDB dataset to rnn/...\")\n",
        "    with tarfile.open(tar_path, 'r:gz') as tar:\n",
        "        tar.extractall(path=extract_to)\n",
        "    print(\"Extraction complete.\")\n",
        "else:\n",
        "    print(\"IMDB dataset already extracted.\")\n"
      ]
    },
    {
      "cell_type": "markdown",
      "metadata": {
        "id": "Hsx43m-L0Ypa"
      },
      "source": [
        "Data loading"
      ]
    },
    {
      "cell_type": "code",
      "execution_count": 31,
      "metadata": {
        "id": "OryYy5kACajW"
      },
      "outputs": [],
      "source": [
        "def load_imdb_data(data_dir, vocab_size=5000):\n",
        "    def read_reviews(folder):\n",
        "        texts, labels = [], []\n",
        "        for label_type in ['pos', 'neg']:\n",
        "            path = os.path.join(folder, label_type)\n",
        "            label = 1 if label_type == 'pos' else 0\n",
        "            for file in os.listdir(path):\n",
        "                with open(os.path.join(path, file), encoding=\"utf8\") as f:\n",
        "                    texts.append(f.read().lower())\n",
        "                    labels.append(label)\n",
        "        return texts, labels\n",
        "\n",
        "    train_texts, train_labels = read_reviews(os.path.join(data_dir, \"train\"))\n",
        "    test_texts, test_labels = read_reviews(os.path.join(data_dir, \"test\"))\n",
        "\n",
        "    def tokenize(text): return text.split()\n",
        "\n",
        "    all_tokens = [token for text in train_texts for token in tokenize(text)]\n",
        "    vocab_counts = Counter(all_tokens).most_common(vocab_size)\n",
        "    vocab = {word: idx + 3 for idx, (word, _) in enumerate(vocab_counts)}\n",
        "    vocab[\"<PAD>\"] = 0\n",
        "    vocab[\"<UNK>\"] = 1\n",
        "    vocab[\"<CLS>\"] = 2\n",
        "\n",
        "    def encode(text):\n",
        "        return [vocab.get(token, vocab[\"<UNK>\"]) for token in tokenize(text)]\n",
        "\n",
        "    def preprocess(texts, labels):\n",
        "        encoded = [[vocab[\"<CLS>\"]] + encode(t) for t in texts]\n",
        "        encoded = [torch.tensor(e[:300]) for e in encoded]  # limit to 300 tokens\n",
        "        labels = torch.tensor(labels)\n",
        "        return encoded, labels\n",
        "\n",
        "    train_encoded, train_labels = preprocess(train_texts, train_labels)\n",
        "    test_encoded, test_labels = preprocess(test_texts, test_labels)\n",
        "\n",
        "    return vocab, train_encoded, train_labels, test_encoded, test_labels\n"
      ]
    },
    {
      "cell_type": "markdown",
      "metadata": {
        "id": "HD8H8qTCu7AA"
      },
      "source": [
        "loading and preprocessing the IMDB dataset"
      ]
    },
    {
      "cell_type": "code",
      "execution_count": 32,
      "metadata": {
        "id": "UGr_xGeMoiCl"
      },
      "outputs": [],
      "source": [
        "vocab, train_encoded, train_labels, test_encoded, test_labels = load_imdb_data(\n",
        "    data_dir='/content/drive/MyDrive/Colab Notebooks/rnn/aclImdb'\n",
        ")"
      ]
    },
    {
      "cell_type": "markdown",
      "metadata": {
        "id": "qmL47ztFu8rq"
      },
      "source": [
        "Saving the data to load this directly"
      ]
    },
    {
      "cell_type": "code",
      "execution_count": 33,
      "metadata": {
        "colab": {
          "base_uri": "https://localhost:8080/"
        },
        "id": "o-5P7DUUxZez",
        "outputId": "881ea10f-a2c8-4c2b-9de5-8835a6f4c799"
      },
      "outputs": [
        {
          "name": "stdout",
          "output_type": "stream",
          "text": [
            "Saved to: /content/drive/MyDrive/Colab Notebooks/rnn/imdb_processed.pt\n"
          ]
        }
      ],
      "source": [
        "#saving to load this directly\n",
        "save_path = '/content/drive/MyDrive/Colab Notebooks/rnn/imdb_processed.pt'\n",
        "\n",
        "torch.save({\n",
        "    'vocab': vocab,\n",
        "    'train_encoded': train_encoded,\n",
        "    'train_labels': train_labels,\n",
        "    'test_encoded': test_encoded,\n",
        "    'test_labels': test_labels\n",
        "}, save_path)\n",
        "\n",
        "print(\"Saved to:\", save_path)\n"
      ]
    },
    {
      "cell_type": "code",
      "execution_count": 34,
      "metadata": {
        "id": "UxnUG9O2x2Yp"
      },
      "outputs": [],
      "source": [
        "loaded_data = torch.load('/content/drive/MyDrive/Colab Notebooks/rnn/imdb_processed.pt')\n",
        "\n",
        "vocab = loaded_data['vocab']\n",
        "train_encoded = loaded_data['train_encoded']\n",
        "train_labels = loaded_data['train_labels']\n",
        "test_encoded = loaded_data['test_encoded']\n",
        "test_labels = loaded_data['test_labels']\n",
        "\n"
      ]
    },
    {
      "cell_type": "markdown",
      "metadata": {
        "id": "sXTIGo_Wt0WN"
      },
      "source": [
        "Creating the dataset and dataloaders"
      ]
    },
    {
      "cell_type": "code",
      "execution_count": 35,
      "metadata": {
        "id": "jYC3hSuR0GNt"
      },
      "outputs": [],
      "source": [
        "from torch.utils.data import Dataset, DataLoader\n",
        "from torch.nn.utils.rnn import pad_sequence\n",
        "\n",
        "class IMDBDataset(Dataset):\n",
        "    def __init__(self, sequences, labels):\n",
        "        self.X = pad_sequence(sequences, batch_first=True)\n",
        "        self.y = labels\n",
        "\n",
        "    def __len__(self):\n",
        "        return len(self.X)\n",
        "\n",
        "    def __getitem__(self, idx):\n",
        "        return self.X[idx], self.y[idx]\n",
        "\n",
        "# Create datasets\n",
        "train_dataset = IMDBDataset(train_encoded, train_labels)\n",
        "test_dataset = IMDBDataset(test_encoded, test_labels)\n",
        "\n",
        "# Create dataloaders\n",
        "batch_size = 64\n",
        "train_loader = DataLoader(train_dataset, batch_size=batch_size, shuffle=True)\n",
        "test_loader = DataLoader(test_dataset, batch_size=batch_size)\n"
      ]
    },
    {
      "cell_type": "markdown",
      "metadata": {
        "id": "Ll6mQ788vSrJ"
      },
      "source": [
        "Custom RNN model"
      ]
    },
    {
      "cell_type": "code",
      "execution_count": 36,
      "metadata": {
        "id": "F6jJyEsDyLkD"
      },
      "outputs": [],
      "source": [
        "import torch.nn as nn\n",
        "\n",
        "class RNNCell(nn.Module):\n",
        "    def __init__(self, input_dim, hidden_dim):\n",
        "        super().__init__()\n",
        "        self.i2h = nn.Linear(input_dim, hidden_dim)\n",
        "        self.h2h = nn.Linear(hidden_dim, hidden_dim)\n",
        "        self.activation = nn.Tanh()\n",
        "\n",
        "    def forward(self, x_t, h_prev):\n",
        "        return self.activation(self.i2h(x_t) + self.h2h(h_prev))\n",
        "\n",
        "\n",
        "class RNN(nn.Module):\n",
        "    def __init__(self, vocab_size, embed_dim, hidden_dim, output_dim):\n",
        "        super().__init__()\n",
        "        self.embedding = nn.Embedding(vocab_size, embed_dim)\n",
        "        self.rnn_cell = RNNCell(embed_dim, hidden_dim)\n",
        "        self.hidden_dim = hidden_dim\n",
        "        self.output_layer = nn.Linear(hidden_dim, output_dim)\n",
        "\n",
        "    def forward(self, x):\n",
        "        embedded = self.embedding(x)  # shape: (batch_size, seq_len, embed_dim)\n",
        "        h = torch.zeros(x.size(0), self.hidden_dim, device=x.device)  # initial hidden state\n",
        "\n",
        "        for t in range(embedded.size(1)):  # loop through sequence\n",
        "            h = self.rnn_cell(embedded[:, t, :], h)\n",
        "\n",
        "        return self.output_layer(h)\n"
      ]
    },
    {
      "cell_type": "markdown",
      "metadata": {
        "id": "1qP1jWoqvv4d"
      },
      "source": [
        "Initializing Loss and optimizer"
      ]
    },
    {
      "cell_type": "code",
      "execution_count": 37,
      "metadata": {
        "id": "pNZKGd-tzpvB"
      },
      "outputs": [],
      "source": [
        "device = torch.device('cuda' if torch.cuda.is_available() else 'cpu')\n",
        "\n",
        "model = RNN(vocab_size=len(vocab), embed_dim=128, hidden_dim=64, output_dim=2).to(device)\n",
        "criterion = nn.CrossEntropyLoss()\n",
        "optimizer = torch.optim.AdamW(model.parameters(), lr=0.001, weight_decay=1e-5)\n"
      ]
    },
    {
      "cell_type": "markdown",
      "metadata": {
        "id": "Gd2PZB90v7no"
      },
      "source": [
        "Training the model"
      ]
    },
    {
      "cell_type": "code",
      "execution_count": 38,
      "metadata": {
        "colab": {
          "base_uri": "https://localhost:8080/"
        },
        "id": "hLpXXIlrztDE",
        "outputId": "93cf978c-87da-4e52-ebf4-f0c9ce81a2de"
      },
      "outputs": [
        {
          "name": "stdout",
          "output_type": "stream",
          "text": [
            "Epoch 1: Loss = 273.2660\n",
            "Epoch 2: Loss = 270.0289\n",
            "Epoch 3: Loss = 266.2642\n",
            "Epoch 4: Loss = 260.9344\n",
            "Epoch 5: Loss = 252.1554\n"
          ]
        }
      ],
      "source": [
        "for epoch in range(5):\n",
        "    model.train()\n",
        "    total_loss = 0\n",
        "\n",
        "    for batch_x, batch_y in train_loader:\n",
        "        batch_x, batch_y = batch_x.to(device), batch_y.to(device)\n",
        "        output = model(batch_x)\n",
        "        loss = criterion(output, batch_y)\n",
        "\n",
        "        optimizer.zero_grad()\n",
        "        loss.backward()\n",
        "        optimizer.step()\n",
        "        total_loss += loss.item()\n",
        "\n",
        "    print(f\"Epoch {epoch + 1}: Loss = {total_loss:.4f}\")\n"
      ]
    },
    {
      "cell_type": "markdown",
      "metadata": {
        "id": "UN19-Pp0v36J"
      },
      "source": [
        "Evaluating the model"
      ]
    },
    {
      "cell_type": "code",
      "execution_count": 39,
      "metadata": {
        "id": "BI1BU6UozyRZ"
      },
      "outputs": [],
      "source": [
        "def evaluate(model, dataloader):\n",
        "    model.eval()\n",
        "    correct = 0\n",
        "    total = 0\n",
        "\n",
        "    with torch.no_grad():\n",
        "        for batch_x, batch_y in dataloader:\n",
        "            batch_x, batch_y = batch_x.to(device), batch_y.to(device)\n",
        "            output = model(batch_x)\n",
        "            predictions = torch.argmax(output, dim=1)\n",
        "            correct += (predictions == batch_y).sum().item()\n",
        "            total += batch_y.size(0)\n",
        "\n",
        "    accuracy = correct / total\n",
        "    print(f\" Test Accuracy: {accuracy:.4f}\")\n"
      ]
    },
    {
      "cell_type": "code",
      "execution_count": 40,
      "metadata": {
        "colab": {
          "base_uri": "https://localhost:8080/"
        },
        "id": "UdAX_sZ2uGjx",
        "outputId": "d5180a40-aef6-4227-978c-c9e89c03ddec"
      },
      "outputs": [
        {
          "name": "stdout",
          "output_type": "stream",
          "text": [
            " Test Accuracy: 0.5050\n"
          ]
        }
      ],
      "source": [
        "evaluate(model, test_loader)\n"
      ]
    },
    {
      "cell_type": "markdown",
      "metadata": {
        "id": "NdHVuZR0xUFt"
      },
      "source": [
        "testing the model on a random text|"
      ]
    },
    {
      "cell_type": "code",
      "execution_count": 41,
      "metadata": {
        "id": "nRKfd4OAxW6h"
      },
      "outputs": [],
      "source": [
        "def preprocess_text(text, vocab, max_len=300):\n",
        "    tokens = text.lower().split()\n",
        "    encoded = [vocab.get(token, vocab[\"<UNK>\"]) for token in tokens]\n",
        "    encoded = [vocab[\"<CLS>\"]] + encoded[:max_len-1]\n",
        "    tensor = torch.tensor(encoded)\n",
        "    return tensor\n"
      ]
    },
    {
      "cell_type": "code",
      "execution_count": 42,
      "metadata": {
        "id": "zSdZCbMOxXqF"
      },
      "outputs": [],
      "source": [
        "def predict_sentiment(text, model, vocab):\n",
        "    model.eval()\n",
        "    input_tensor = preprocess_text(text, vocab).unsqueeze(0).to(device)  # Add batch dimension\n",
        "    with torch.no_grad():\n",
        "        output = model(input_tensor)  # shape: (1, 2)\n",
        "        pred = torch.argmax(output, dim=1).item()\n",
        "    return \"Positive\" if pred == 1 else \"Negative\"\n"
      ]
    },
    {
      "cell_type": "code",
      "execution_count": 43,
      "metadata": {
        "colab": {
          "base_uri": "https://localhost:8080/"
        },
        "id": "ZUxy8oTAxZPV",
        "outputId": "af22e6eb-775f-4a56-fe5b-b9a68d2ac3bc"
      },
      "outputs": [
        {
          "name": "stdout",
          "output_type": "stream",
          "text": [
            "Negative\n"
          ]
        }
      ],
      "source": [
        "sample_review = \"\"\"\n",
        "I rarely ever write reviews, but I just couldn’t help myself after watching this film. Let me just start by saying that this movie left me speechless in the best possible way. From the very beginning, the story draws you in with its stunning cinematography and hauntingly beautiful score. The performances are nothing short of extraordinary—each actor seemed to become their character with such natural conviction, I forgot I was watching a performance. The main lead delivered lines with such emotional intensity that I found myself tearing up multiple times, not because the scenes were overtly sad, but because they were so incredibly human.\n",
        "\n",
        "What really sets this movie apart is its attention to detail. Every frame is meticulously crafted, from the lighting to the costume design to the sound mixing. You can tell that every department was in sync with the director’s vision, which is so rare these days when many films feel like they’re mass-produced for streaming platforms. Here, every moment had weight. Every pause, every glance, every note in the background added to the emotional layering of the story.\n",
        "\n",
        "The narrative structure was also surprisingly bold. It didn’t follow a conventional linear arc, but instead wove in and out of memories, flashbacks, and dream sequences in a way that mirrored the emotional confusion of the protagonist. And yet, it was never disorienting. The editor deserves major credit for keeping the pacing tight and the transitions smooth. In fact, the nonlinear approach added a poetic depth to the story that would’ve been lost in a traditional format.\n",
        "\n",
        "And can we talk about the soundtrack? Easily one of the best I’ve heard in years. It wasn’t just background filler—it was a character in its own right. There were moments when the music would swell in such a way that I got chills, even though nothing dramatic was happening on screen. It was like the score was speaking directly to my emotions. Whoever scored this film deserves every award there is.\n",
        "\n",
        "There were a few supporting characters that added unexpected humor to the otherwise somber tone. But even the comic relief was tastefully done—it never felt forced or out of place. Instead, it reminded me that even in our darkest moments, there’s always a glimmer of light. That’s a hard balance to strike, but the film handled it with grace and authenticity.\n",
        "\n",
        "The themes explored were deep and nuanced—grief, identity, forgiveness, the meaning of home, and the passage of time. But they were never spelled out. Instead, they unfolded organically through the characters' choices and interactions. I found myself thinking about my own life, my own relationships, and the things I take for granted. It’s rare to find a movie that’s not just entertaining, but also profoundly introspective.\n",
        "\n",
        "By the time the credits rolled, I was an emotional wreck—but in the best way. I sat there for several minutes, just letting it all sink in. This movie didn’t just tell a story. It invited me to feel, to reflect, to connect. And that’s the kind of art that stays with you.\n",
        "\n",
        "If you’re looking for a mindless blockbuster with explosions and one-liners, this isn’t it. But if you’re open to something more soulful, more artistic, more real—do yourself a favor and watch this film. It’s the kind of cinematic experience that comes around once in a blue moon. I’m so glad I gave it a chance. 10/10.\n",
        "\"\"\"\n",
        "\n",
        "print(predict_sentiment(sample_review, model, vocab))\n"
      ]
    },
    {
      "cell_type": "markdown",
      "metadata": {
        "id": "4ZK9pHdjxsSA"
      },
      "source": [
        "GRU"
      ]
    },
    {
      "cell_type": "code",
      "execution_count": 44,
      "metadata": {
        "id": "NnBEEULDxmDK"
      },
      "outputs": [],
      "source": [
        "import torch.nn as nn\n",
        "import torch\n",
        "\n",
        "class GRUCell(nn.Module):\n",
        "    def __init__(self, input_dim, hidden_dim):\n",
        "        super().__init__()\n",
        "        self.hidden_dim = hidden_dim\n",
        "        # Fused implementation: one linear layer for all gates from input, one from hidden\n",
        "        self.x2h = nn.Linear(input_dim, 3 * hidden_dim)\n",
        "        self.h2h = nn.Linear(hidden_dim, 3 * hidden_dim)\n",
        "\n",
        "    def forward(self, x_t, h_prev):\n",
        "        x_proj = self.x2h(x_t)  # (batch, 3 * hidden_dim)\n",
        "        h_proj = self.h2h(h_prev)  # (batch, 3 * hidden_dim)\n",
        "\n",
        "        x_z, x_r, x_n = x_proj.chunk(3, dim=1)\n",
        "        h_z, h_r, h_n = h_proj.chunk(3, dim=1)\n",
        "\n",
        "        z_t = torch.sigmoid(x_z + h_z)  # Update gate\n",
        "        r_t = torch.sigmoid(x_r + h_r)  # Reset gate\n",
        "        n_t = torch.tanh(x_n + r_t * h_n)  # Candidate activation\n",
        "\n",
        "        h_t = (1 - z_t) * h_prev + z_t * n_t  # Final state\n",
        "        return h_t\n"
      ]
    },
    {
      "cell_type": "code",
      "execution_count": 45,
      "metadata": {
        "id": "G5p450wAx0EN"
      },
      "outputs": [],
      "source": [
        "class GRUModel(nn.Module):\n",
        "    def __init__(self, vocab_size, embed_dim, hidden_dim, output_dim):\n",
        "        super().__init__()\n",
        "        self.embedding = nn.Embedding(vocab_size, embed_dim)\n",
        "        self.gru_cell = GRUCell(embed_dim, hidden_dim)\n",
        "        self.hidden_dim = hidden_dim\n",
        "        self.output_layer = nn.Linear(hidden_dim, output_dim)\n",
        "\n",
        "    def forward(self, x):\n",
        "        embedded = self.embedding(x)  # (batch, seq_len, embed_dim)\n",
        "        h = torch.zeros(x.size(0), self.hidden_dim, device=x.device)\n",
        "\n",
        "        for t in range(embedded.size(1)):\n",
        "            h = self.gru_cell(embedded[:, t, :], h)\n",
        "\n",
        "        return self.output_layer(h)\n"
      ]
    },
    {
      "cell_type": "code",
      "execution_count": 46,
      "metadata": {
        "id": "HYlpE9Lux2AE"
      },
      "outputs": [],
      "source": [
        "GRU_model = GRUModel(vocab_size=len(vocab), embed_dim=128, hidden_dim=64, output_dim=2).to(device)\n",
        "criterion = nn.CrossEntropyLoss()\n",
        "optimizer = torch.optim.AdamW(GRU_model.parameters(), lr=0.001, weight_decay=1e-5)\n"
      ]
    },
    {
      "cell_type": "code",
      "execution_count": 47,
      "metadata": {
        "colab": {
          "base_uri": "https://localhost:8080/"
        },
        "id": "fkv3UWltx4si",
        "outputId": "c7a5e843-fbdb-4643-fbc9-e1a14919fd6a"
      },
      "outputs": [
        {
          "name": "stdout",
          "output_type": "stream",
          "text": [
            "Epoch 1: Train Loss = 0.6962 | Test Loss = 0.6934\n",
            "Epoch 2: Train Loss = 0.6874 | Test Loss = 0.6906\n",
            "Epoch 3: Train Loss = 0.5662 | Test Loss = 0.4471\n",
            "Epoch 4: Train Loss = 0.3327 | Test Loss = 0.3292\n",
            "Epoch 5: Train Loss = 0.2471 | Test Loss = 0.3202\n"
          ]
        }
      ],
      "source": [
        "train_losses = []\n",
        "test_losses = []\n",
        "\n",
        "for epoch in range(5):\n",
        "    GRU_model.train()\n",
        "    total_train_loss = 0\n",
        "\n",
        "    for batch_x, batch_y in train_loader:\n",
        "        batch_x, batch_y = batch_x.to(device), batch_y.to(device)\n",
        "        output = GRU_model(batch_x)\n",
        "        loss = criterion(output, batch_y)\n",
        "\n",
        "        optimizer.zero_grad()\n",
        "        loss.backward()\n",
        "        optimizer.step()\n",
        "        total_train_loss += loss.item()\n",
        "\n",
        "    avg_train_loss = total_train_loss / len(train_loader)\n",
        "    train_losses.append(avg_train_loss)\n",
        "\n",
        "    # Evaluation on test set\n",
        "    GRU_model.eval()\n",
        "    total_test_loss = 0\n",
        "    with torch.no_grad():\n",
        "        for batch_x, batch_y in test_loader:\n",
        "            batch_x, batch_y = batch_x.to(device), batch_y.to(device)\n",
        "            output = GRU_model(batch_x)\n",
        "            loss = criterion(output, batch_y)\n",
        "            total_test_loss += loss.item()\n",
        "\n",
        "    avg_test_loss = total_test_loss / len(test_loader)\n",
        "    test_losses.append(avg_test_loss)\n",
        "\n",
        "    print(f\"Epoch {epoch+1}: Train Loss = {avg_train_loss:.4f} | Test Loss = {avg_test_loss:.4f}\")\n"
      ]
    },
    {
      "cell_type": "markdown",
      "metadata": {
        "id": "k_D1pzqP-EKN"
      },
      "source": [
        "loss curves"
      ]
    },
    {
      "cell_type": "code",
      "execution_count": 48,
      "metadata": {
        "colab": {
          "base_uri": "https://localhost:8080/",
          "height": 472
        },
        "id": "5CQwyX2M-Dlz",
        "outputId": "c6f3299b-c685-4c14-bcba-8007b5d50552"
      },
      "outputs": [
        {
          "data": {
            "image/png": "[encoded data removed]",
            "text/plain": [
              "<Figure size 640x480 with 1 Axes>"
            ]
          },
          "metadata": {},
          "output_type": "display_data"
        }
      ],
      "source": [
        "import matplotlib.pyplot as plt\n",
        "plt.plot(train_losses, label='Train Loss')\n",
        "plt.plot(test_losses, label='Test Loss')\n",
        "plt.xlabel('Epoch')\n",
        "plt.ylabel('Loss')\n",
        "plt.legend()\n",
        "plt.title('GRU Training vs Test Loss')\n",
        "plt.show()"
      ]
    },
    {
      "cell_type": "markdown",
      "metadata": {
        "id": "qvEvzWxoyIKC"
      },
      "source": [
        "comparing gru and rnn for test set\n"
      ]
    },
    {
      "cell_type": "code",
      "execution_count": 49,
      "metadata": {
        "id": "GfUoeStrx--D"
      },
      "outputs": [],
      "source": [
        "def evaluate_accuracy(GRU_model, dataloader):\n",
        "    GRU_model.eval()\n",
        "    correct = 0\n",
        "    total = 0\n",
        "\n",
        "    with torch.no_grad():\n",
        "        for X, y in dataloader:\n",
        "            X, y = X.to(device), y.to(device)\n",
        "            logits = GRU_model(X)\n",
        "            preds = torch.argmax(logits, dim=1)\n",
        "            correct += (preds == y).sum().item()\n",
        "            total += y.size(0)\n",
        "\n",
        "    return correct / total\n"
      ]
    },
    {
      "cell_type": "code",
      "execution_count": 50,
      "metadata": {
        "colab": {
          "base_uri": "https://localhost:8080/"
        },
        "id": "a2_qlEEJyTGB",
        "outputId": "faa36b1e-a7ae-493e-d122-45b18248d937"
      },
      "outputs": [
        {
          "name": "stdout",
          "output_type": "stream",
          "text": [
            "Evaluating RNN:\n",
            " Test Accuracy: 0.5050\n",
            "Evaluating GRU:\n",
            " Test Accuracy: 0.8645\n"
          ]
        }
      ],
      "source": [
        "print(\"Evaluating RNN:\")\n",
        "evaluate(model, test_loader)\n",
        "\n",
        "print(\"Evaluating GRU:\")\n",
        "evaluate(GRU_model, test_loader)\n",
        "\n"
      ]
    },
    {
      "cell_type": "markdown",
      "metadata": {
        "id": "NMUQANoHSqq8"
      },
      "source": [
        "# Observations\n",
        "\n",
        "In this project, we built custom implementations of both a basic RNN and a GRU to perform sentiment classification on the IMDB movie reviews dataset. We used embeddings to represent the input text and manually unrolled the sequences over time to compute hidden states. The final hidden state from each sequence was used to predict whether a review was positive or negative. For training, we used the AdamW optimizer and evaluated both models based on their accuracy on the training and test sets.\n",
        "\n",
        "The GRU model clearly outperformed the basic RNN. While the RNN achieved accuracyof 50% in test data, it struggled to capture long-range dependencies in the text, resulting in lower performance on both training and test data. In contrast, the GRU reached around 86% test accuracy, demonstrating its strength in modeling sequential data more effectively.\n",
        "\n",
        "PyTorch Official Documentation:  (https://pytorch.org/docs/stable/index.html)\n",
        "\n",
        "- PyTorch Tutorials:\n",
        "  - [Text Classification with an RNN](https://pytorch.org/tutorials/beginner/text_sentiment_ngrams_tutorial.html)\n"
      ]
    }
  ],
  "metadata": {
    "accelerator": "GPU",
    "colab": {
      "gpuType": "T4",
      "provenance": []
    },
    "kernelspec": {
      "display_name": "Python 3",
      "name": "python3"
    },
    "language_info": {
      "name": "python"
    }
  },
  "nbformat": 4,
  "nbformat_minor": 0
}
